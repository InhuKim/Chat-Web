{
 "cells": [
  {
   "cell_type": "code",
   "execution_count": 6,
   "metadata": {},
   "outputs": [],
   "source": [
    "import pandas as pd\n",
    "import os\n",
    "from datasets import Dataset\n",
    "from tqdm import tqdm"
   ]
  },
  {
   "cell_type": "code",
   "execution_count": 14,
   "metadata": {},
   "outputs": [
    {
     "name": "stderr",
     "output_type": "stream",
     "text": [
      "100%|██████████| 1378/1378 [00:01<00:00, 794.76it/s]\n",
      "100%|██████████| 1394/1394 [00:02<00:00, 598.95it/s]\n",
      "100%|██████████| 1576/1576 [00:04<00:00, 382.50it/s]\n",
      "100%|██████████| 1688/1688 [00:06<00:00, 271.14it/s]\n",
      "100%|██████████| 1380/1380 [00:06<00:00, 198.87it/s]\n",
      "100%|██████████| 1432/1432 [00:09<00:00, 150.99it/s]\n",
      "100%|██████████| 1428/1428 [00:11<00:00, 123.81it/s]\n",
      "100%|██████████| 1395/1395 [00:13<00:00, 105.84it/s]\n",
      "100%|██████████| 1510/1510 [00:16<00:00, 92.03it/s]\n",
      "100%|██████████| 1441/1441 [00:17<00:00, 81.29it/s]\n"
     ]
    }
   ],
   "source": [
    "path = '/home/RAG_Chatbot/Data/train_data/'\n",
    "\n",
    "train_folder = os.listdir(path)\n",
    "\n",
    "train_df = pd.DataFrame()\n",
    "\n",
    "for folder in train_folder:\n",
    "    file_name = os.listdir(path + folder)\n",
    "\n",
    "    for file in tqdm(file_name):\n",
    "        temp_dict = {}\n",
    "        df = pd.read_csv(path + folder + '/' + file, delimiter='\\t')\n",
    "        temp_dict['role'] = df['role'].values\n",
    "        temp_dict['text'] = df['text'].values\n",
    "        temp_dict['search_query'] = df['search_query'].values\n",
    "        temp_dict['label'] = folder\n",
    "        temp_df = pd.DataFrame(temp_dict)\n",
    "        train_df = pd.concat([train_df, temp_df])"
   ]
  },
  {
   "cell_type": "code",
   "execution_count": 16,
   "metadata": {},
   "outputs": [],
   "source": [
    "train_df.to_csv('/home/RAG_Chatbot/Data/train_data/all_train_df.csv', index=0, encoding='utf-8-sig')"
   ]
  },
  {
   "cell_type": "code",
   "execution_count": 38,
   "metadata": {},
   "outputs": [],
   "source": [
    "result = train_df.dropna()\n",
    "result.to_csv('/home/RAG_Chatbot/Data/db_input.csv', index=0, encoding='utf-8-sig')"
   ]
  },
  {
   "cell_type": "code",
   "execution_count": null,
   "metadata": {},
   "outputs": [],
   "source": []
  },
  {
   "cell_type": "markdown",
   "metadata": {},
   "source": [
    "# langchain documents"
   ]
  },
  {
   "cell_type": "code",
   "execution_count": 39,
   "metadata": {},
   "outputs": [
    {
     "data": {
      "text/html": [
       "<div>\n",
       "<style scoped>\n",
       "    .dataframe tbody tr th:only-of-type {\n",
       "        vertical-align: middle;\n",
       "    }\n",
       "\n",
       "    .dataframe tbody tr th {\n",
       "        vertical-align: top;\n",
       "    }\n",
       "\n",
       "    .dataframe thead th {\n",
       "        text-align: right;\n",
       "    }\n",
       "</style>\n",
       "<table border=\"1\" class=\"dataframe\">\n",
       "  <thead>\n",
       "    <tr style=\"text-align: right;\">\n",
       "      <th></th>\n",
       "      <th>role</th>\n",
       "      <th>text</th>\n",
       "      <th>search_query</th>\n",
       "      <th>label</th>\n",
       "    </tr>\n",
       "  </thead>\n",
       "  <tbody>\n",
       "    <tr>\n",
       "      <th>0</th>\n",
       "      <td>전문가</td>\n",
       "      <td>바르셀로나 혹은 줄여서 바르사로 알려진 FC 바르셀로나는 스페인 카탈루냐 주 바르셀...</td>\n",
       "      <td>FC 바르셀로나 연고지</td>\n",
       "      <td>TS_스포츠</td>\n",
       "    </tr>\n",
       "    <tr>\n",
       "      <th>1</th>\n",
       "      <td>전문가</td>\n",
       "      <td>바르셀로나는 국내 무대에서 우승컵을 75번 들었는데, 이는 최다 기록이야.  라 리...</td>\n",
       "      <td>FC 바르셀로나 국내 무대 우승 횟수</td>\n",
       "      <td>TS_스포츠</td>\n",
       "    </tr>\n",
       "    <tr>\n",
       "      <th>2</th>\n",
       "      <td>전문가</td>\n",
       "      <td>바르셀로나는 국제 무대에서 20번 정상을 차지했어. 챔피언스리그에서 5번, 컵위너스...</td>\n",
       "      <td>FC 바르셀로나 국제 무대 우승 횟수</td>\n",
       "      <td>TS_스포츠</td>\n",
       "    </tr>\n",
       "    <tr>\n",
       "      <th>3</th>\n",
       "      <td>전문가</td>\n",
       "      <td>바르셀로나는 1997년, 2009년, 2011년, 2012년, 그리고 2015년에 ...</td>\n",
       "      <td>FC 바르셀로나 구단 랭킹</td>\n",
       "      <td>TS_스포츠</td>\n",
       "    </tr>\n",
       "    <tr>\n",
       "      <th>4</th>\n",
       "      <td>전문가</td>\n",
       "      <td>바르셀로나는 1929년에 스페인 1부 리그가 라 리가로 출범한 이래 한 번도 강등되...</td>\n",
       "      <td>라 리가 강등</td>\n",
       "      <td>TS_스포츠</td>\n",
       "    </tr>\n",
       "    <tr>\n",
       "      <th>...</th>\n",
       "      <td>...</td>\n",
       "      <td>...</td>\n",
       "      <td>...</td>\n",
       "      <td>...</td>\n",
       "    </tr>\n",
       "    <tr>\n",
       "      <th>119729</th>\n",
       "      <td>전문가</td>\n",
       "      <td>안타깝게도 전기차가 늘어나면서 화재사고도 늘고 있고있는 추세에요. 전기차의 화재 위...</td>\n",
       "      <td>전기차 위험성</td>\n",
       "      <td>TS_쇼핑과 상품</td>\n",
       "    </tr>\n",
       "    <tr>\n",
       "      <th>119730</th>\n",
       "      <td>전문가</td>\n",
       "      <td>마일리지 특약은 보험사 별로 할인구간이나 할인율이 상이하지만, 보통 1년간 1만50...</td>\n",
       "      <td>자동차보험 주의사항</td>\n",
       "      <td>TS_쇼핑과 상품</td>\n",
       "    </tr>\n",
       "    <tr>\n",
       "      <th>119731</th>\n",
       "      <td>전문가</td>\n",
       "      <td>중고차 시세는 전국자동차매매사업조합연합회가 매월 공표하는 중고자동차시세로 조회해볼 ...</td>\n",
       "      <td>중고차 주의사항</td>\n",
       "      <td>TS_쇼핑과 상품</td>\n",
       "    </tr>\n",
       "    <tr>\n",
       "      <th>119732</th>\n",
       "      <td>전문가</td>\n",
       "      <td>필수옵션 몇 가지 추천드리면, 먼저 열선시트와 통풍시트를 추천드릴게요. 그 다음, ...</td>\n",
       "      <td>자동차 필수 옵션</td>\n",
       "      <td>TS_쇼핑과 상품</td>\n",
       "    </tr>\n",
       "    <tr>\n",
       "      <th>119733</th>\n",
       "      <td>전문가</td>\n",
       "      <td>캠버는 가볍게 차박을 떠나는 여행객 수요가 늘어나는 것에 대비하여 직접 개조한 레이...</td>\n",
       "      <td>차박 레이</td>\n",
       "      <td>TS_쇼핑과 상품</td>\n",
       "    </tr>\n",
       "  </tbody>\n",
       "</table>\n",
       "<p>119734 rows × 4 columns</p>\n",
       "</div>"
      ],
      "text/plain": [
       "       role                                               text  \\\n",
       "0       전문가  바르셀로나 혹은 줄여서 바르사로 알려진 FC 바르셀로나는 스페인 카탈루냐 주 바르셀...   \n",
       "1       전문가  바르셀로나는 국내 무대에서 우승컵을 75번 들었는데, 이는 최다 기록이야.  라 리...   \n",
       "2       전문가  바르셀로나는 국제 무대에서 20번 정상을 차지했어. 챔피언스리그에서 5번, 컵위너스...   \n",
       "3       전문가  바르셀로나는 1997년, 2009년, 2011년, 2012년, 그리고 2015년에 ...   \n",
       "4       전문가  바르셀로나는 1929년에 스페인 1부 리그가 라 리가로 출범한 이래 한 번도 강등되...   \n",
       "...     ...                                                ...   \n",
       "119729  전문가  안타깝게도 전기차가 늘어나면서 화재사고도 늘고 있고있는 추세에요. 전기차의 화재 위...   \n",
       "119730  전문가  마일리지 특약은 보험사 별로 할인구간이나 할인율이 상이하지만, 보통 1년간 1만50...   \n",
       "119731  전문가  중고차 시세는 전국자동차매매사업조합연합회가 매월 공표하는 중고자동차시세로 조회해볼 ...   \n",
       "119732  전문가  필수옵션 몇 가지 추천드리면, 먼저 열선시트와 통풍시트를 추천드릴게요. 그 다음, ...   \n",
       "119733  전문가  캠버는 가볍게 차박을 떠나는 여행객 수요가 늘어나는 것에 대비하여 직접 개조한 레이...   \n",
       "\n",
       "                search_query      label  \n",
       "0               FC 바르셀로나 연고지     TS_스포츠  \n",
       "1       FC 바르셀로나 국내 무대 우승 횟수     TS_스포츠  \n",
       "2       FC 바르셀로나 국제 무대 우승 횟수     TS_스포츠  \n",
       "3             FC 바르셀로나 구단 랭킹     TS_스포츠  \n",
       "4                    라 리가 강등     TS_스포츠  \n",
       "...                      ...        ...  \n",
       "119729               전기차 위험성  TS_쇼핑과 상품  \n",
       "119730            자동차보험 주의사항  TS_쇼핑과 상품  \n",
       "119731              중고차 주의사항  TS_쇼핑과 상품  \n",
       "119732             자동차 필수 옵션  TS_쇼핑과 상품  \n",
       "119733                 차박 레이  TS_쇼핑과 상품  \n",
       "\n",
       "[119734 rows x 4 columns]"
      ]
     },
     "execution_count": 39,
     "metadata": {},
     "output_type": "execute_result"
    }
   ],
   "source": [
    "df = pd.read_csv('/home/RAG_Chatbot/Data/db_input.csv')\n",
    "df"
   ]
  },
  {
   "cell_type": "code",
   "execution_count": 19,
   "metadata": {},
   "outputs": [],
   "source": [
    "from langchain.document_loaders import csv_loader"
   ]
  },
  {
   "cell_type": "code",
   "execution_count": 44,
   "metadata": {},
   "outputs": [],
   "source": [
    "data = csv_loader.CSVLoader('/home/RAG_Chatbot/Data/db_input.csv',\n",
    "                            source_column='text',\n",
    "                            metadata_columns=['label', 'search_query'])"
   ]
  },
  {
   "cell_type": "code",
   "execution_count": 45,
   "metadata": {},
   "outputs": [],
   "source": [
    "doc = data.load()"
   ]
  },
  {
   "cell_type": "code",
   "execution_count": 51,
   "metadata": {},
   "outputs": [
    {
     "name": "stdout",
     "output_type": "stream",
     "text": [
      "바르셀로나 혹은 줄여서 바르사로 알려진 FC 바르셀로나는 스페인 카탈루냐 주 바르셀로나를 연고지로 두는 스페인 축구 1부 리그인 라 리가에 소속된 프로 축구단이야.\n"
     ]
    }
   ],
   "source": [
    "for i in doc:\n",
    "    print(i.metadata['source'])\n",
    "    break"
   ]
  },
  {
   "cell_type": "code",
   "execution_count": null,
   "metadata": {},
   "outputs": [],
   "source": []
  }
 ],
 "metadata": {
  "kernelspec": {
   "display_name": "Python 3",
   "language": "python",
   "name": "python3"
  },
  "language_info": {
   "codemirror_mode": {
    "name": "ipython",
    "version": 3
   },
   "file_extension": ".py",
   "mimetype": "text/x-python",
   "name": "python",
   "nbconvert_exporter": "python",
   "pygments_lexer": "ipython3",
   "version": "3.10.12"
  }
 },
 "nbformat": 4,
 "nbformat_minor": 2
}
